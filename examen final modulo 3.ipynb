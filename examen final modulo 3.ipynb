{
 "cells": [
  {
   "cell_type": "code",
   "execution_count": 49,
   "metadata": {},
   "outputs": [],
   "source": [
    "import pandas as pd\n",
    "\n",
    "df_flight = pd.read_csv(\"Customer Flight Activity (1).csv\",index_col=0)\n",
    "df_customer = pd.read_csv(\"Customer Loyalty History.csv\",index_col=0)"
   ]
  },
  {
   "cell_type": "code",
   "execution_count": 50,
   "metadata": {},
   "outputs": [
    {
     "data": {
      "text/html": [
       "<div>\n",
       "<style scoped>\n",
       "    .dataframe tbody tr th:only-of-type {\n",
       "        vertical-align: middle;\n",
       "    }\n",
       "\n",
       "    .dataframe tbody tr th {\n",
       "        vertical-align: top;\n",
       "    }\n",
       "\n",
       "    .dataframe thead th {\n",
       "        text-align: right;\n",
       "    }\n",
       "</style>\n",
       "<table border=\"1\" class=\"dataframe\">\n",
       "  <thead>\n",
       "    <tr style=\"text-align: right;\">\n",
       "      <th></th>\n",
       "      <th>Year</th>\n",
       "      <th>Month</th>\n",
       "      <th>Flights Booked</th>\n",
       "      <th>Flights with Companions</th>\n",
       "      <th>Total Flights</th>\n",
       "      <th>Distance</th>\n",
       "      <th>Points Accumulated</th>\n",
       "      <th>Points Redeemed</th>\n",
       "      <th>Dollar Cost Points Redeemed</th>\n",
       "    </tr>\n",
       "    <tr>\n",
       "      <th>Loyalty Number</th>\n",
       "      <th></th>\n",
       "      <th></th>\n",
       "      <th></th>\n",
       "      <th></th>\n",
       "      <th></th>\n",
       "      <th></th>\n",
       "      <th></th>\n",
       "      <th></th>\n",
       "      <th></th>\n",
       "    </tr>\n",
       "  </thead>\n",
       "  <tbody>\n",
       "    <tr>\n",
       "      <th>100018</th>\n",
       "      <td>2017</td>\n",
       "      <td>1</td>\n",
       "      <td>3</td>\n",
       "      <td>0</td>\n",
       "      <td>3</td>\n",
       "      <td>1521</td>\n",
       "      <td>152.0</td>\n",
       "      <td>0</td>\n",
       "      <td>0</td>\n",
       "    </tr>\n",
       "    <tr>\n",
       "      <th>100102</th>\n",
       "      <td>2017</td>\n",
       "      <td>1</td>\n",
       "      <td>10</td>\n",
       "      <td>4</td>\n",
       "      <td>14</td>\n",
       "      <td>2030</td>\n",
       "      <td>203.0</td>\n",
       "      <td>0</td>\n",
       "      <td>0</td>\n",
       "    </tr>\n",
       "    <tr>\n",
       "      <th>100140</th>\n",
       "      <td>2017</td>\n",
       "      <td>1</td>\n",
       "      <td>6</td>\n",
       "      <td>0</td>\n",
       "      <td>6</td>\n",
       "      <td>1200</td>\n",
       "      <td>120.0</td>\n",
       "      <td>0</td>\n",
       "      <td>0</td>\n",
       "    </tr>\n",
       "    <tr>\n",
       "      <th>100214</th>\n",
       "      <td>2017</td>\n",
       "      <td>1</td>\n",
       "      <td>0</td>\n",
       "      <td>0</td>\n",
       "      <td>0</td>\n",
       "      <td>0</td>\n",
       "      <td>0.0</td>\n",
       "      <td>0</td>\n",
       "      <td>0</td>\n",
       "    </tr>\n",
       "    <tr>\n",
       "      <th>100272</th>\n",
       "      <td>2017</td>\n",
       "      <td>1</td>\n",
       "      <td>0</td>\n",
       "      <td>0</td>\n",
       "      <td>0</td>\n",
       "      <td>0</td>\n",
       "      <td>0.0</td>\n",
       "      <td>0</td>\n",
       "      <td>0</td>\n",
       "    </tr>\n",
       "  </tbody>\n",
       "</table>\n",
       "</div>"
      ],
      "text/plain": [
       "                Year  Month  Flights Booked  Flights with Companions  \\\n",
       "Loyalty Number                                                         \n",
       "100018          2017      1               3                        0   \n",
       "100102          2017      1              10                        4   \n",
       "100140          2017      1               6                        0   \n",
       "100214          2017      1               0                        0   \n",
       "100272          2017      1               0                        0   \n",
       "\n",
       "                Total Flights  Distance  Points Accumulated  Points Redeemed  \\\n",
       "Loyalty Number                                                                 \n",
       "100018                      3      1521               152.0                0   \n",
       "100102                     14      2030               203.0                0   \n",
       "100140                      6      1200               120.0                0   \n",
       "100214                      0         0                 0.0                0   \n",
       "100272                      0         0                 0.0                0   \n",
       "\n",
       "                Dollar Cost Points Redeemed  \n",
       "Loyalty Number                               \n",
       "100018                                    0  \n",
       "100102                                    0  \n",
       "100140                                    0  \n",
       "100214                                    0  \n",
       "100272                                    0  "
      ]
     },
     "execution_count": 50,
     "metadata": {},
     "output_type": "execute_result"
    }
   ],
   "source": [
    "#para la exploración de la estructura de datos, veo las primeras filas del dataset para ver el tipo de datos y su estructuram por ejemplo, vi que el indice era 0,1,2 y añadi index_col)\n",
    "\n",
    "df_flight.head()"
   ]
  },
  {
   "cell_type": "code",
   "execution_count": 51,
   "metadata": {},
   "outputs": [
    {
     "name": "stdout",
     "output_type": "stream",
     "text": [
      "<class 'pandas.core.frame.DataFrame'>\n",
      "Index: 405624 entries, 100018 to 999986\n",
      "Data columns (total 9 columns):\n",
      " #   Column                       Non-Null Count   Dtype  \n",
      "---  ------                       --------------   -----  \n",
      " 0   Year                         405624 non-null  int64  \n",
      " 1   Month                        405624 non-null  int64  \n",
      " 2   Flights Booked               405624 non-null  int64  \n",
      " 3   Flights with Companions      405624 non-null  int64  \n",
      " 4   Total Flights                405624 non-null  int64  \n",
      " 5   Distance                     405624 non-null  int64  \n",
      " 6   Points Accumulated           405624 non-null  float64\n",
      " 7   Points Redeemed              405624 non-null  int64  \n",
      " 8   Dollar Cost Points Redeemed  405624 non-null  int64  \n",
      "dtypes: float64(1), int64(8)\n",
      "memory usage: 30.9 MB\n"
     ]
    }
   ],
   "source": [
    "#veo la estructura general de cada tabla\n",
    "\n",
    "df_flight.info()"
   ]
  },
  {
   "cell_type": "code",
   "execution_count": 52,
   "metadata": {},
   "outputs": [
    {
     "data": {
      "text/html": [
       "<div>\n",
       "<style scoped>\n",
       "    .dataframe tbody tr th:only-of-type {\n",
       "        vertical-align: middle;\n",
       "    }\n",
       "\n",
       "    .dataframe tbody tr th {\n",
       "        vertical-align: top;\n",
       "    }\n",
       "\n",
       "    .dataframe thead th {\n",
       "        text-align: right;\n",
       "    }\n",
       "</style>\n",
       "<table border=\"1\" class=\"dataframe\">\n",
       "  <thead>\n",
       "    <tr style=\"text-align: right;\">\n",
       "      <th></th>\n",
       "      <th>count</th>\n",
       "      <th>mean</th>\n",
       "      <th>std</th>\n",
       "      <th>min</th>\n",
       "      <th>25%</th>\n",
       "      <th>50%</th>\n",
       "      <th>75%</th>\n",
       "      <th>max</th>\n",
       "    </tr>\n",
       "  </thead>\n",
       "  <tbody>\n",
       "    <tr>\n",
       "      <th>Year</th>\n",
       "      <td>405624.0</td>\n",
       "      <td>2017.500000</td>\n",
       "      <td>0.500001</td>\n",
       "      <td>2017.0</td>\n",
       "      <td>2017.00</td>\n",
       "      <td>2017.5</td>\n",
       "      <td>2018.00</td>\n",
       "      <td>2018.0</td>\n",
       "    </tr>\n",
       "    <tr>\n",
       "      <th>Month</th>\n",
       "      <td>405624.0</td>\n",
       "      <td>6.500000</td>\n",
       "      <td>3.452057</td>\n",
       "      <td>1.0</td>\n",
       "      <td>3.75</td>\n",
       "      <td>6.5</td>\n",
       "      <td>9.25</td>\n",
       "      <td>12.0</td>\n",
       "    </tr>\n",
       "    <tr>\n",
       "      <th>Flights Booked</th>\n",
       "      <td>405624.0</td>\n",
       "      <td>4.115052</td>\n",
       "      <td>5.225518</td>\n",
       "      <td>0.0</td>\n",
       "      <td>0.00</td>\n",
       "      <td>1.0</td>\n",
       "      <td>8.00</td>\n",
       "      <td>21.0</td>\n",
       "    </tr>\n",
       "    <tr>\n",
       "      <th>Flights with Companions</th>\n",
       "      <td>405624.0</td>\n",
       "      <td>1.031805</td>\n",
       "      <td>2.076869</td>\n",
       "      <td>0.0</td>\n",
       "      <td>0.00</td>\n",
       "      <td>0.0</td>\n",
       "      <td>1.00</td>\n",
       "      <td>11.0</td>\n",
       "    </tr>\n",
       "    <tr>\n",
       "      <th>Total Flights</th>\n",
       "      <td>405624.0</td>\n",
       "      <td>5.146858</td>\n",
       "      <td>6.521227</td>\n",
       "      <td>0.0</td>\n",
       "      <td>0.00</td>\n",
       "      <td>1.0</td>\n",
       "      <td>10.00</td>\n",
       "      <td>32.0</td>\n",
       "    </tr>\n",
       "    <tr>\n",
       "      <th>Distance</th>\n",
       "      <td>405624.0</td>\n",
       "      <td>1208.880059</td>\n",
       "      <td>1433.155320</td>\n",
       "      <td>0.0</td>\n",
       "      <td>0.00</td>\n",
       "      <td>488.0</td>\n",
       "      <td>2336.00</td>\n",
       "      <td>6293.0</td>\n",
       "    </tr>\n",
       "    <tr>\n",
       "      <th>Points Accumulated</th>\n",
       "      <td>405624.0</td>\n",
       "      <td>123.692721</td>\n",
       "      <td>146.599831</td>\n",
       "      <td>0.0</td>\n",
       "      <td>0.00</td>\n",
       "      <td>50.0</td>\n",
       "      <td>239.00</td>\n",
       "      <td>676.5</td>\n",
       "    </tr>\n",
       "    <tr>\n",
       "      <th>Points Redeemed</th>\n",
       "      <td>405624.0</td>\n",
       "      <td>30.696872</td>\n",
       "      <td>125.486049</td>\n",
       "      <td>0.0</td>\n",
       "      <td>0.00</td>\n",
       "      <td>0.0</td>\n",
       "      <td>0.00</td>\n",
       "      <td>876.0</td>\n",
       "    </tr>\n",
       "    <tr>\n",
       "      <th>Dollar Cost Points Redeemed</th>\n",
       "      <td>405624.0</td>\n",
       "      <td>2.484503</td>\n",
       "      <td>10.150038</td>\n",
       "      <td>0.0</td>\n",
       "      <td>0.00</td>\n",
       "      <td>0.0</td>\n",
       "      <td>0.00</td>\n",
       "      <td>71.0</td>\n",
       "    </tr>\n",
       "  </tbody>\n",
       "</table>\n",
       "</div>"
      ],
      "text/plain": [
       "                                count         mean          std     min  \\\n",
       "Year                         405624.0  2017.500000     0.500001  2017.0   \n",
       "Month                        405624.0     6.500000     3.452057     1.0   \n",
       "Flights Booked               405624.0     4.115052     5.225518     0.0   \n",
       "Flights with Companions      405624.0     1.031805     2.076869     0.0   \n",
       "Total Flights                405624.0     5.146858     6.521227     0.0   \n",
       "Distance                     405624.0  1208.880059  1433.155320     0.0   \n",
       "Points Accumulated           405624.0   123.692721   146.599831     0.0   \n",
       "Points Redeemed              405624.0    30.696872   125.486049     0.0   \n",
       "Dollar Cost Points Redeemed  405624.0     2.484503    10.150038     0.0   \n",
       "\n",
       "                                 25%     50%      75%     max  \n",
       "Year                         2017.00  2017.5  2018.00  2018.0  \n",
       "Month                           3.75     6.5     9.25    12.0  \n",
       "Flights Booked                  0.00     1.0     8.00    21.0  \n",
       "Flights with Companions         0.00     0.0     1.00    11.0  \n",
       "Total Flights                   0.00     1.0    10.00    32.0  \n",
       "Distance                        0.00   488.0  2336.00  6293.0  \n",
       "Points Accumulated              0.00    50.0   239.00   676.5  \n",
       "Points Redeemed                 0.00     0.0     0.00   876.0  \n",
       "Dollar Cost Points Redeemed     0.00     0.0     0.00    71.0  "
      ]
     },
     "execution_count": 52,
     "metadata": {},
     "output_type": "execute_result"
    }
   ],
   "source": [
    "#Chequeo primero una tabla y luego la otra\n",
    "#Revisar si hay valores nulos \n",
    "\n",
    "df_flight.isnull().sum() # me dan 0 valores nulos en la salida\n",
    "\n",
    "#Chequeo si hay valores atípicos\n",
    "\n",
    "df_flight.describe().T\n",
    "\n",
    "#no hay valores nulos tambien porque el count me da lo mismo para todas las variables del dataset\n",
    "#Identifico outliers. para identificarlos y entenderlos"
   ]
  },
  {
   "cell_type": "code",
   "execution_count": 53,
   "metadata": {},
   "outputs": [
    {
     "name": "stdout",
     "output_type": "stream",
     "text": [
      "<class 'pandas.core.frame.DataFrame'>\n",
      "Index: 16737 entries, 480934 to 652627\n",
      "Data columns (total 15 columns):\n",
      " #   Column              Non-Null Count  Dtype  \n",
      "---  ------              --------------  -----  \n",
      " 0   Country             16737 non-null  object \n",
      " 1   Province            16737 non-null  object \n",
      " 2   City                16737 non-null  object \n",
      " 3   Postal Code         16737 non-null  object \n",
      " 4   Gender              16737 non-null  object \n",
      " 5   Education           16737 non-null  object \n",
      " 6   Salary              12499 non-null  float64\n",
      " 7   Marital Status      16737 non-null  object \n",
      " 8   Loyalty Card        16737 non-null  object \n",
      " 9   CLV                 16737 non-null  float64\n",
      " 10  Enrollment Type     16737 non-null  object \n",
      " 11  Enrollment Year     16737 non-null  int64  \n",
      " 12  Enrollment Month    16737 non-null  int64  \n",
      " 13  Cancellation Year   2067 non-null   float64\n",
      " 14  Cancellation Month  2067 non-null   float64\n",
      "dtypes: float64(4), int64(2), object(9)\n",
      "memory usage: 2.0+ MB\n"
     ]
    }
   ],
   "source": [
    "df_customer.info() #veo la estructura general de la tabla"
   ]
  },
  {
   "cell_type": "code",
   "execution_count": 54,
   "metadata": {},
   "outputs": [
    {
     "data": {
      "text/html": [
       "<div>\n",
       "<style scoped>\n",
       "    .dataframe tbody tr th:only-of-type {\n",
       "        vertical-align: middle;\n",
       "    }\n",
       "\n",
       "    .dataframe tbody tr th {\n",
       "        vertical-align: top;\n",
       "    }\n",
       "\n",
       "    .dataframe thead th {\n",
       "        text-align: right;\n",
       "    }\n",
       "</style>\n",
       "<table border=\"1\" class=\"dataframe\">\n",
       "  <thead>\n",
       "    <tr style=\"text-align: right;\">\n",
       "      <th></th>\n",
       "      <th>Country</th>\n",
       "      <th>Province</th>\n",
       "      <th>City</th>\n",
       "      <th>Postal Code</th>\n",
       "      <th>Gender</th>\n",
       "      <th>Education</th>\n",
       "      <th>Salary</th>\n",
       "      <th>Marital Status</th>\n",
       "      <th>Loyalty Card</th>\n",
       "      <th>CLV</th>\n",
       "      <th>Enrollment Type</th>\n",
       "      <th>Enrollment Year</th>\n",
       "      <th>Enrollment Month</th>\n",
       "      <th>Cancellation Year</th>\n",
       "      <th>Cancellation Month</th>\n",
       "    </tr>\n",
       "    <tr>\n",
       "      <th>Loyalty Number</th>\n",
       "      <th></th>\n",
       "      <th></th>\n",
       "      <th></th>\n",
       "      <th></th>\n",
       "      <th></th>\n",
       "      <th></th>\n",
       "      <th></th>\n",
       "      <th></th>\n",
       "      <th></th>\n",
       "      <th></th>\n",
       "      <th></th>\n",
       "      <th></th>\n",
       "      <th></th>\n",
       "      <th></th>\n",
       "      <th></th>\n",
       "    </tr>\n",
       "  </thead>\n",
       "  <tbody>\n",
       "    <tr>\n",
       "      <th>480934</th>\n",
       "      <td>Canada</td>\n",
       "      <td>Ontario</td>\n",
       "      <td>Toronto</td>\n",
       "      <td>M2Z 4K1</td>\n",
       "      <td>Female</td>\n",
       "      <td>Bachelor</td>\n",
       "      <td>83236.0</td>\n",
       "      <td>Married</td>\n",
       "      <td>Star</td>\n",
       "      <td>3839.14</td>\n",
       "      <td>Standard</td>\n",
       "      <td>2016</td>\n",
       "      <td>2</td>\n",
       "      <td>NaN</td>\n",
       "      <td>NaN</td>\n",
       "    </tr>\n",
       "    <tr>\n",
       "      <th>549612</th>\n",
       "      <td>Canada</td>\n",
       "      <td>Alberta</td>\n",
       "      <td>Edmonton</td>\n",
       "      <td>T3G 6Y6</td>\n",
       "      <td>Male</td>\n",
       "      <td>College</td>\n",
       "      <td>NaN</td>\n",
       "      <td>Divorced</td>\n",
       "      <td>Star</td>\n",
       "      <td>3839.61</td>\n",
       "      <td>Standard</td>\n",
       "      <td>2016</td>\n",
       "      <td>3</td>\n",
       "      <td>NaN</td>\n",
       "      <td>NaN</td>\n",
       "    </tr>\n",
       "    <tr>\n",
       "      <th>429460</th>\n",
       "      <td>Canada</td>\n",
       "      <td>British Columbia</td>\n",
       "      <td>Vancouver</td>\n",
       "      <td>V6E 3D9</td>\n",
       "      <td>Male</td>\n",
       "      <td>College</td>\n",
       "      <td>NaN</td>\n",
       "      <td>Single</td>\n",
       "      <td>Star</td>\n",
       "      <td>3839.75</td>\n",
       "      <td>Standard</td>\n",
       "      <td>2014</td>\n",
       "      <td>7</td>\n",
       "      <td>2018.0</td>\n",
       "      <td>1.0</td>\n",
       "    </tr>\n",
       "    <tr>\n",
       "      <th>608370</th>\n",
       "      <td>Canada</td>\n",
       "      <td>Ontario</td>\n",
       "      <td>Toronto</td>\n",
       "      <td>P1W 1K4</td>\n",
       "      <td>Male</td>\n",
       "      <td>College</td>\n",
       "      <td>NaN</td>\n",
       "      <td>Single</td>\n",
       "      <td>Star</td>\n",
       "      <td>3839.75</td>\n",
       "      <td>Standard</td>\n",
       "      <td>2013</td>\n",
       "      <td>2</td>\n",
       "      <td>NaN</td>\n",
       "      <td>NaN</td>\n",
       "    </tr>\n",
       "    <tr>\n",
       "      <th>530508</th>\n",
       "      <td>Canada</td>\n",
       "      <td>Quebec</td>\n",
       "      <td>Hull</td>\n",
       "      <td>J8Y 3Z5</td>\n",
       "      <td>Male</td>\n",
       "      <td>Bachelor</td>\n",
       "      <td>103495.0</td>\n",
       "      <td>Married</td>\n",
       "      <td>Star</td>\n",
       "      <td>3842.79</td>\n",
       "      <td>Standard</td>\n",
       "      <td>2014</td>\n",
       "      <td>10</td>\n",
       "      <td>NaN</td>\n",
       "      <td>NaN</td>\n",
       "    </tr>\n",
       "  </tbody>\n",
       "</table>\n",
       "</div>"
      ],
      "text/plain": [
       "               Country          Province       City Postal Code  Gender  \\\n",
       "Loyalty Number                                                            \n",
       "480934          Canada           Ontario    Toronto     M2Z 4K1  Female   \n",
       "549612          Canada           Alberta   Edmonton     T3G 6Y6    Male   \n",
       "429460          Canada  British Columbia  Vancouver     V6E 3D9    Male   \n",
       "608370          Canada           Ontario    Toronto     P1W 1K4    Male   \n",
       "530508          Canada            Quebec       Hull     J8Y 3Z5    Male   \n",
       "\n",
       "               Education    Salary Marital Status Loyalty Card      CLV  \\\n",
       "Loyalty Number                                                            \n",
       "480934          Bachelor   83236.0        Married         Star  3839.14   \n",
       "549612           College       NaN       Divorced         Star  3839.61   \n",
       "429460           College       NaN         Single         Star  3839.75   \n",
       "608370           College       NaN         Single         Star  3839.75   \n",
       "530508          Bachelor  103495.0        Married         Star  3842.79   \n",
       "\n",
       "               Enrollment Type  Enrollment Year  Enrollment Month  \\\n",
       "Loyalty Number                                                      \n",
       "480934                Standard             2016                 2   \n",
       "549612                Standard             2016                 3   \n",
       "429460                Standard             2014                 7   \n",
       "608370                Standard             2013                 2   \n",
       "530508                Standard             2014                10   \n",
       "\n",
       "                Cancellation Year  Cancellation Month  \n",
       "Loyalty Number                                         \n",
       "480934                        NaN                 NaN  \n",
       "549612                        NaN                 NaN  \n",
       "429460                     2018.0                 1.0  \n",
       "608370                        NaN                 NaN  \n",
       "530508                        NaN                 NaN  "
      ]
     },
     "execution_count": 54,
     "metadata": {},
     "output_type": "execute_result"
    }
   ],
   "source": [
    "df_customer.head() #igual en la otra, voy viendo valores NaN"
   ]
  },
  {
   "cell_type": "code",
   "execution_count": 55,
   "metadata": {},
   "outputs": [
    {
     "data": {
      "text/plain": [
       "Country                   0\n",
       "Province                  0\n",
       "City                      0\n",
       "Postal Code               0\n",
       "Gender                    0\n",
       "Education                 0\n",
       "Salary                 4238\n",
       "Marital Status            0\n",
       "Loyalty Card              0\n",
       "CLV                       0\n",
       "Enrollment Type           0\n",
       "Enrollment Year           0\n",
       "Enrollment Month          0\n",
       "Cancellation Year     14670\n",
       "Cancellation Month    14670\n",
       "dtype: int64"
      ]
     },
     "execution_count": 55,
     "metadata": {},
     "output_type": "execute_result"
    }
   ],
   "source": [
    "df_customer.isnull().sum()  # Ver nulos, salary, cancelation year y cancellation month\n"
   ]
  },
  {
   "cell_type": "code",
   "execution_count": 57,
   "metadata": {},
   "outputs": [
    {
     "data": {
      "text/html": [
       "<div>\n",
       "<style scoped>\n",
       "    .dataframe tbody tr th:only-of-type {\n",
       "        vertical-align: middle;\n",
       "    }\n",
       "\n",
       "    .dataframe tbody tr th {\n",
       "        vertical-align: top;\n",
       "    }\n",
       "\n",
       "    .dataframe thead th {\n",
       "        text-align: right;\n",
       "    }\n",
       "</style>\n",
       "<table border=\"1\" class=\"dataframe\">\n",
       "  <thead>\n",
       "    <tr style=\"text-align: right;\">\n",
       "      <th></th>\n",
       "      <th>count</th>\n",
       "      <th>mean</th>\n",
       "      <th>std</th>\n",
       "      <th>min</th>\n",
       "      <th>25%</th>\n",
       "      <th>50%</th>\n",
       "      <th>75%</th>\n",
       "      <th>max</th>\n",
       "    </tr>\n",
       "  </thead>\n",
       "  <tbody>\n",
       "    <tr>\n",
       "      <th>Salary</th>\n",
       "      <td>12499.0</td>\n",
       "      <td>79245.609409</td>\n",
       "      <td>35008.297285</td>\n",
       "      <td>-58486.00</td>\n",
       "      <td>59246.50</td>\n",
       "      <td>73455.00</td>\n",
       "      <td>88517.50</td>\n",
       "      <td>407228.00</td>\n",
       "    </tr>\n",
       "    <tr>\n",
       "      <th>CLV</th>\n",
       "      <td>16737.0</td>\n",
       "      <td>7988.896536</td>\n",
       "      <td>6860.982280</td>\n",
       "      <td>1898.01</td>\n",
       "      <td>3980.84</td>\n",
       "      <td>5780.18</td>\n",
       "      <td>8940.58</td>\n",
       "      <td>83325.38</td>\n",
       "    </tr>\n",
       "    <tr>\n",
       "      <th>Enrollment Year</th>\n",
       "      <td>16737.0</td>\n",
       "      <td>2015.253211</td>\n",
       "      <td>1.979111</td>\n",
       "      <td>2012.00</td>\n",
       "      <td>2014.00</td>\n",
       "      <td>2015.00</td>\n",
       "      <td>2017.00</td>\n",
       "      <td>2018.00</td>\n",
       "    </tr>\n",
       "    <tr>\n",
       "      <th>Enrollment Month</th>\n",
       "      <td>16737.0</td>\n",
       "      <td>6.669116</td>\n",
       "      <td>3.398958</td>\n",
       "      <td>1.00</td>\n",
       "      <td>4.00</td>\n",
       "      <td>7.00</td>\n",
       "      <td>10.00</td>\n",
       "      <td>12.00</td>\n",
       "    </tr>\n",
       "    <tr>\n",
       "      <th>Cancellation Year</th>\n",
       "      <td>2067.0</td>\n",
       "      <td>2016.503145</td>\n",
       "      <td>1.380743</td>\n",
       "      <td>2013.00</td>\n",
       "      <td>2016.00</td>\n",
       "      <td>2017.00</td>\n",
       "      <td>2018.00</td>\n",
       "      <td>2018.00</td>\n",
       "    </tr>\n",
       "    <tr>\n",
       "      <th>Cancellation Month</th>\n",
       "      <td>2067.0</td>\n",
       "      <td>6.962748</td>\n",
       "      <td>3.455297</td>\n",
       "      <td>1.00</td>\n",
       "      <td>4.00</td>\n",
       "      <td>7.00</td>\n",
       "      <td>10.00</td>\n",
       "      <td>12.00</td>\n",
       "    </tr>\n",
       "  </tbody>\n",
       "</table>\n",
       "</div>"
      ],
      "text/plain": [
       "                      count          mean           std       min       25%  \\\n",
       "Salary              12499.0  79245.609409  35008.297285 -58486.00  59246.50   \n",
       "CLV                 16737.0   7988.896536   6860.982280   1898.01   3980.84   \n",
       "Enrollment Year     16737.0   2015.253211      1.979111   2012.00   2014.00   \n",
       "Enrollment Month    16737.0      6.669116      3.398958      1.00      4.00   \n",
       "Cancellation Year    2067.0   2016.503145      1.380743   2013.00   2016.00   \n",
       "Cancellation Month   2067.0      6.962748      3.455297      1.00      4.00   \n",
       "\n",
       "                         50%       75%        max  \n",
       "Salary              73455.00  88517.50  407228.00  \n",
       "CLV                  5780.18   8940.58   83325.38  \n",
       "Enrollment Year      2015.00   2017.00    2018.00  \n",
       "Enrollment Month        7.00     10.00      12.00  \n",
       "Cancellation Year    2017.00   2018.00    2018.00  \n",
       "Cancellation Month      7.00     10.00      12.00  "
      ]
     },
     "execution_count": 57,
     "metadata": {},
     "output_type": "execute_result"
    }
   ],
   "source": [
    "df_customer.describe().T"
   ]
  },
  {
   "cell_type": "code",
   "execution_count": 58,
   "metadata": {},
   "outputs": [],
   "source": [
    "#salary\n",
    "#relleno con la mediana\n",
    "\n",
    "df_customer[\"Salary\"] = df_customer[\"Salary\"].fillna(73455)\n",
    "\n",
    "#dado que el 25% tienen salarios en torno al 59246, doi por hecho que el minimo es un error de entrada y lo cambio a positivo\n",
    "\n",
    "df_customer[\"Salary\"] = df_customer[\"Salary\"].abs()\n"
   ]
  },
  {
   "cell_type": "code",
   "execution_count": 59,
   "metadata": {},
   "outputs": [],
   "source": [
    "#cancellation year y cancelation month\n",
    "\n",
    "#cambio NaN por 0 para decir que el cliente sigue activo\n",
    "\n",
    "df_customer[\"Cancellation Year\"] = df_customer[\"Cancellation Year\"].fillna(0)\n",
    "df_customer[\"Cancellation Month\"] = df_customer[\"Cancellation Month\"].fillna(0)\n",
    "\n",
    "# Convertir a entero para eliminar decimales\n",
    "df_customer[\"Cancellation Year\"] = df_customer[\"Cancellation Year\"].astype(int)\n",
    "df_customer[\"Cancellation Month\"] = df_customer[\"Cancellation Month\"].astype(int)"
   ]
  },
  {
   "cell_type": "code",
   "execution_count": 60,
   "metadata": {},
   "outputs": [],
   "source": [
    "#unimos los datos de la forma mas eficiente, que será por Loyalty number ya que actua como un ID\n",
    "\n",
    "df_merged = pd.merge(df_flight, df_customer, on=\"Loyalty Number\", how=\"outer\")\n"
   ]
  },
  {
   "cell_type": "code",
   "execution_count": 61,
   "metadata": {},
   "outputs": [
    {
     "data": {
      "text/plain": [
       "Year                           0\n",
       "Month                          0\n",
       "Flights Booked                 0\n",
       "Flights with Companions        0\n",
       "Total Flights                  0\n",
       "Distance                       0\n",
       "Points Accumulated             0\n",
       "Points Redeemed                0\n",
       "Dollar Cost Points Redeemed    0\n",
       "Country                        0\n",
       "Province                       0\n",
       "City                           0\n",
       "Postal Code                    0\n",
       "Gender                         0\n",
       "Education                      0\n",
       "Salary                         0\n",
       "Marital Status                 0\n",
       "Loyalty Card                   0\n",
       "CLV                            0\n",
       "Enrollment Type                0\n",
       "Enrollment Year                0\n",
       "Enrollment Month               0\n",
       "Cancellation Year              0\n",
       "Cancellation Month             0\n",
       "dtype: int64"
      ]
     },
     "execution_count": 61,
     "metadata": {},
     "output_type": "execute_result"
    }
   ],
   "source": [
    "#verificar nulos despues de la fusión\n",
    "\n",
    "df_merged.isnull().sum()\n"
   ]
  },
  {
   "cell_type": "code",
   "execution_count": 62,
   "metadata": {},
   "outputs": [
    {
     "data": {
      "text/plain": [
       "Year                             int64\n",
       "Month                            int64\n",
       "Flights Booked                   int64\n",
       "Flights with Companions          int64\n",
       "Total Flights                    int64\n",
       "Distance                         int64\n",
       "Points Accumulated             float64\n",
       "Points Redeemed                  int64\n",
       "Dollar Cost Points Redeemed      int64\n",
       "Country                         object\n",
       "Province                        object\n",
       "City                            object\n",
       "Postal Code                     object\n",
       "Gender                          object\n",
       "Education                       object\n",
       "Salary                         float64\n",
       "Marital Status                  object\n",
       "Loyalty Card                    object\n",
       "CLV                            float64\n",
       "Enrollment Type                 object\n",
       "Enrollment Year                  int64\n",
       "Enrollment Month                 int64\n",
       "Cancellation Year                int64\n",
       "Cancellation Month               int64\n",
       "dtype: object"
      ]
     },
     "execution_count": 62,
     "metadata": {},
     "output_type": "execute_result"
    }
   ],
   "source": [
    "#revisar tipo de datos en cada columna\n",
    "\n",
    "df_merged.dtypes"
   ]
  },
  {
   "cell_type": "code",
   "execution_count": 69,
   "metadata": {},
   "outputs": [],
   "source": [
    "#convertir a category, gender, marital status y education\n",
    "\n",
    "# Convertir las columnas seleccionadas a category\n",
    "categorical_cols = [\"Gender\", \"Marital Status\", \"Education\"]\n",
    "df_merged[categorical_cols] = df_merged[categorical_cols].astype(\"category\")\n"
   ]
  },
  {
   "cell_type": "code",
   "execution_count": 70,
   "metadata": {},
   "outputs": [
    {
     "data": {
      "text/plain": [
       "Year                              int64\n",
       "Month                             int64\n",
       "Flights Booked                    int64\n",
       "Flights with Companions           int64\n",
       "Total Flights                     int64\n",
       "Distance                          int64\n",
       "Points Accumulated              float64\n",
       "Points Redeemed                   int64\n",
       "Dollar Cost Points Redeemed       int64\n",
       "Country                          object\n",
       "Province                         object\n",
       "City                             object\n",
       "Postal Code                      object\n",
       "Gender                         category\n",
       "Education                      category\n",
       "Salary                          float64\n",
       "Marital Status                 category\n",
       "Loyalty Card                     object\n",
       "CLV                             float64\n",
       "Enrollment Type                  object\n",
       "Enrollment Year                   int64\n",
       "Enrollment Month                  int64\n",
       "Cancellation Year                 int64\n",
       "Cancellation Month                int64\n",
       "dtype: object"
      ]
     },
     "execution_count": 70,
     "metadata": {},
     "output_type": "execute_result"
    }
   ],
   "source": [
    "df_merged.dtypes"
   ]
  },
  {
   "cell_type": "code",
   "execution_count": 72,
   "metadata": {},
   "outputs": [],
   "source": [
    "import matplotlib.pyplot as plt\n",
    "import seaborn as sns"
   ]
  },
  {
   "cell_type": "code",
   "execution_count": 81,
   "metadata": {},
   "outputs": [],
   "source": [
    "#Vuelos reservados por mes durante el año, distrubución:\n",
    "\n",
    "# Agrupar la cantidad de vuelos reservados por mes\n",
    "monthly_flights = df_merged.groupby(\"Month\")[\"Flights Booked\"].sum().reset_index()\n",
    "\n",
    "sorted_flights = monthly_flights.sort_values(\"Month\")"
   ]
  },
  {
   "cell_type": "code",
   "execution_count": null,
   "metadata": {},
   "outputs": [
    {
     "data": {
      "image/png": "[encoded data removed]",
      "text/plain": [
       "<Figure size 640x480 with 1 Axes>"
      ]
     },
     "metadata": {},
     "output_type": "display_data"
    }
   ],
   "source": [
    "sns.lineplot(x=\"Month\", y=\"Flights Booked\", data=sorted_flights, marker=\"o\")\n",
    "\n",
    "plt.xticks(range(1, 13))  #mostrar meses\n",
    "plt.show()\n"
   ]
  },
  {
   "cell_type": "code",
   "execution_count": 92,
   "metadata": {},
   "outputs": [],
   "source": [
    "#veo muy poco visual que los meses sean numeros, añado como un diccionario una clumna con los nombres de los meses y vuelvo a ejecutar, clave numero valor mes\n",
    "\n",
    "month_names =  {1: \"Enero\", 2: \"Febrero\", 3: \"Marzo\", 4: \"Abril\",\n",
    "    5: \"Mayo\", 6: \"Junio\", 7: \"Julio\", 8: \"Agosto\",\n",
    "    9: \"Septiembre\", 10: \"Octubre\", 11: \"Noviembre\", 12: \"Diciembre\"\n",
    "}\n",
    "\n",
    "#añado la columna a la tabla \n",
    "\n",
    "sorted_flights[\"Month Name\"] = sorted_flights[\"Month\"].map(month_names)"
   ]
  },
  {
   "cell_type": "code",
   "execution_count": 104,
   "metadata": {},
   "outputs": [
    {
     "data": {
      "image/png": "[encoded data removed]",
      "text/plain": [
       "<Figure size 640x480 with 1 Axes>"
      ]
     },
     "metadata": {},
     "output_type": "display_data"
    }
   ],
   "source": [
    "#uso para graficar Month name añado titulos y cuadricula de detras para mejor interpretación\n",
    "\n",
    "sns.lineplot(x=\"Month Name\", y=\"Flights Booked\", data=sorted_flights, marker=\"o\") #Crea el gráfico de líneas con Seaborn:\n",
    "\n",
    "plt.xlabel(\"Mes\") #titulo para el eje de la X\n",
    "plt.ylabel(\"Vuelos reservados\") #titulo para el eje de la Y\n",
    "plt.title(\"Distribución de vuelos reservados por mes\") #Titulo para nuestro gráfico\n",
    "plt.xticks(rotation=45) #Rotamos los nombres de los meses para que no se sobreescriban\n",
    "plt.grid(True) #Cuadricula de fondo\n",
    "\n",
    "plt.show()\n"
   ]
  },
  {
   "cell_type": "code",
   "execution_count": 105,
   "metadata": {},
   "outputs": [],
   "source": [
    "#agrupo los datos de distancia y puntos acumulados por clientes unicos\n",
    "\n",
    "customer_distance_data = df_merged.groupby(\"Loyalty Card\")[[\"Distance\", \"Points Accumulated\"]].sum().reset_index()"
   ]
  },
  {
   "cell_type": "code",
   "execution_count": 112,
   "metadata": {},
   "outputs": [
    {
     "data": {
      "text/plain": [
       "Text(0.5, 1.0, 'Relación entre distancia de vuelos y puntos acumulados por cliente')"
      ]
     },
     "execution_count": 112,
     "metadata": {},
     "output_type": "execute_result"
    },
    {
     "data": {
      "image/png": "[encoded data removed]",
      "text/plain": [
       "<Figure size 640x480 with 1 Axes>"
      ]
     },
     "metadata": {},
     "output_type": "display_data"
    }
   ],
   "source": [
    "#Graficamos con scatterplot porque se ven mejores las relaciones entre dos variables, positiva, negativa o sin relación en concreto regplot  \n",
    "# Para ver mejor la tendencia con la linea de regresion \n",
    "\n",
    "sns.regplot(x=\"Distance\", y=\"Points Accumulated\", data=customer_distance_data, scatter_kws={\"alpha\":0.5})\n",
    "plt.xlabel(\"Distancia total de vuelos (km)\")\n",
    "plt.ylabel(\"Puntos acumulados\")\n",
    "plt.grid(True) #Cuadricula de fondo\n",
    "plt.title(\"Relación entre distancia de vuelos y puntos acumulados por cliente\")\n",
    "\n",
    "\n"
   ]
  },
  {
   "cell_type": "code",
   "execution_count": null,
   "metadata": {},
   "outputs": [],
   "source": [
    "#Agrupamos como siempre \n",
    "\n",
    "customer_byprovince = df_merged.groupby(\"Province\")[\"Loyalty Card\"].nunique().reset_index()  #Cuenta clientes únicos (evita contar clientes duplicados que estuviesen en dos provincias).\n",
    "customer_byprovince.rename(columns={\"Loyalty Card\": \"Customer Count\"}, inplace=True) #uso rename aqui porque los nombres ya no son representativos de los datos ya no representa tarjetas de clientes\n"
   ]
  },
  {
   "cell_type": "code",
   "execution_count": null,
   "metadata": {},
   "outputs": [
    {
     "data": {
      "image/png": "[encoded data removed]",
      "text/plain": [
       "<Figure size 1200x600 with 1 Axes>"
      ]
     },
     "metadata": {},
     "output_type": "display_data"
    }
   ],
   "source": [
    "#Graficado con barras para ver facilmente donde hay mas o menos clientews\n",
    "\n",
    "plt.figure(figsize=(12, 6))\n",
    "sns.countplot(y=\"Province\", data=df_merged, order=df_merged[\"Province\"].value_counts().index)\n",
    "plt.xlabel(\"Número de clientes\")\n",
    "plt.ylabel(\"Provincia/Estado\")\n",
    "plt.title(\"Distribución de clientes por provincia o estado\")\n",
    "\n",
    "plt.show() #lo pongo que si no me sale el textito ese de text nose que"
   ]
  },
  {
   "cell_type": "code",
   "execution_count": null,
   "metadata": {},
   "outputs": [
    {
     "data": {
      "text/plain": [
       "['Bachelor', 'College', 'Master', 'High School or Below', 'Doctor']\n",
       "Categories (5, object): ['Bachelor', 'College', 'Doctor', 'High School or Below', 'Master']"
      ]
     },
     "execution_count": 122,
     "metadata": {},
     "output_type": "execute_result"
    }
   ],
   "source": [
    "df_merged[\"Education\"].unique()"
   ]
  },
  {
   "cell_type": "code",
   "execution_count": 120,
   "metadata": {},
   "outputs": [
    {
     "name": "stderr",
     "output_type": "stream",
     "text": [
      "C:\\Users\\aaagu\\AppData\\Local\\Temp\\ipykernel_12128\\2032140597.py:3: FutureWarning: The default of observed=False is deprecated and will be changed to True in a future version of pandas. Pass observed=False to retain current behavior or observed=True to adopt the future default and silence this warning.\n",
      "  education_salary = df_merged.groupby(\"Education\")[\"Salary\"].mean().reset_index()\n"
     ]
    }
   ],
   "source": [
    "#Agrupamos por nivel educativo y sueldo medio\n",
    "\n",
    "education_salary = df_merged.groupby(\"Education\")[\"Salary\"].mean().reset_index()\n"
   ]
  },
  {
   "cell_type": "code",
   "execution_count": 127,
   "metadata": {},
   "outputs": [
    {
     "name": "stderr",
     "output_type": "stream",
     "text": [
      "C:\\Users\\aaagu\\AppData\\Local\\Temp\\ipykernel_12128\\2810401502.py:2: FutureWarning: \n",
      "\n",
      "Passing `palette` without assigning `hue` is deprecated and will be removed in v0.14.0. Assign the `y` variable to `hue` and set `legend=False` for the same effect.\n",
      "\n",
      "  sns.barplot(y=\"Education\", x=\"Salary\", data=education_salary, palette=\"viridis\")\n"
     ]
    },
    {
     "data": {
      "image/png": "[encoded data removed]",
      "text/plain": [
       "<Figure size 1000x500 with 1 Axes>"
      ]
     },
     "metadata": {},
     "output_type": "display_data"
    }
   ],
   "source": [
    "plt.figure(figsize=(10, 5))\n",
    "sns.barplot(y=\"Education\", x=\"Salary\", data=education_salary, palette=\"viridis\")\n",
    "plt.xlabel(\"Salario promedio\")\n",
    "plt.ylabel(\"Nivel educativo\")\n",
    "plt.title(\"Comparación del salario promedio por nivel educativo\")\n",
    "\n",
    "plt.show()"
   ]
  },
  {
   "cell_type": "code",
   "execution_count": 129,
   "metadata": {},
   "outputs": [
    {
     "data": {
      "text/plain": [
       "Index(['Year', 'Month', 'Flights Booked', 'Flights with Companions',\n",
       "       'Total Flights', 'Distance', 'Points Accumulated', 'Points Redeemed',\n",
       "       'Dollar Cost Points Redeemed', 'Country', 'Province', 'City',\n",
       "       'Postal Code', 'Gender', 'Education', 'Salary', 'Marital Status',\n",
       "       'Loyalty Card', 'CLV', 'Enrollment Type', 'Enrollment Year',\n",
       "       'Enrollment Month', 'Cancellation Year', 'Cancellation Month'],\n",
       "      dtype='object')"
      ]
     },
     "execution_count": 129,
     "metadata": {},
     "output_type": "execute_result"
    }
   ],
   "source": [
    "df_merged.columns"
   ]
  },
  {
   "cell_type": "code",
   "execution_count": 131,
   "metadata": {},
   "outputs": [
    {
     "data": {
      "text/plain": [
       "array(['Aurora', 'Nova', 'Star'], dtype=object)"
      ]
     },
     "execution_count": 131,
     "metadata": {},
     "output_type": "execute_result"
    }
   ],
   "source": [
    "df_merged[\"Loyalty Card\"].unique()"
   ]
  },
  {
   "cell_type": "code",
   "execution_count": 133,
   "metadata": {},
   "outputs": [],
   "source": [
    "card_distribution = df_merged[\"Loyalty Card\"].value_counts() #con value counts cuento cuantos clientes hay por tipo de tarjeta\n"
   ]
  },
  {
   "cell_type": "code",
   "execution_count": null,
   "metadata": {},
   "outputs": [
    {
     "data": {
      "image/png": "[encoded data removed]",
      "text/plain": [
       "<Figure size 600x600 with 1 Axes>"
      ]
     },
     "metadata": {},
     "output_type": "display_data"
    }
   ],
   "source": [
    "#gráfico con pie chart (para usar otro) y porque he leido que es util para ver proporciones\n",
    "\n",
    "plt.figure(figsize=(6,6)) #tamaño de la figura en pulgadas\n",
    "plt.pie(card_distribution,   #valores grafico\n",
    "        labels=card_distribution.index, #nombres de las tarjetas\n",
    "        autopct=\"%1.1f%%\", #PARA MOSTRAR LOS PORCENTAJES DE CADA SEGMENTO CON 1 DECIMAL \n",
    "        startangle=90, #GRADO DE 90 GRADOS PARA QUE SE VEA DESDE ARRIBA\n",
    "        colors=sns.color_palette(\"viridis\", len(card_distribution))) #PALETA DE COLOR VIRIDIS PARA CADA TARJETA CON LEN\n",
    "plt.title(\"Proporción de clientes por tipo de tarjeta de fidelidad\")\n",
    "plt.show()\n"
   ]
  },
  {
   "cell_type": "code",
   "execution_count": null,
   "metadata": {},
   "outputs": [],
   "source": [
    "# Agrupar clientes por estado civil y género\n",
    "marital_gender_distribution = df_merged.groupby([\"Marital Status\", \"Gender\"], observed=False).size().reset_index(name=\"Customer Count\") #aqui con unique me aparecia siempre el mismo valor\n",
    "marital_gender_distribution.rename(columns={\"Loyalty Card\": \"Customer Count\"},inplace=True)"
   ]
  },
  {
   "cell_type": "code",
   "execution_count": 160,
   "metadata": {},
   "outputs": [
    {
     "data": {
      "image/png": "[encoded data removed]",
      "text/plain": [
       "<Figure size 1200x600 with 1 Axes>"
      ]
     },
     "metadata": {},
     "output_type": "display_data"
    }
   ],
   "source": [
    "# Crear gráfico de barras con agrupación por género\n",
    "plt.figure(figsize=(12, 6))\n",
    "sns.barplot(x=\"Marital Status\", y=\"Customer Count\", hue=\"Gender\", data=marital_gender_distribution,  palette=\"viridis\")\n",
    "plt.xlabel(\"Estado Civil\")\n",
    "plt.ylabel(\"Número de clientes\")\n",
    "plt.title(\"Distribución de clientes según estado civil y género\")\n",
    "\n",
    "plt.show()\n"
   ]
  },
  {
   "cell_type": "code",
   "execution_count": null,
   "metadata": {},
   "outputs": [
    {
     "name": "stdout",
     "output_type": "stream",
     "text": [
      "  Marital Status  Gender  Customer Count\n",
      "0       Divorced  Female               3\n",
      "1       Divorced    Male               3\n",
      "2        Married  Female               3\n",
      "3        Married    Male               3\n",
      "4         Single  Female               3\n",
      "5         Single    Male               3\n"
     ]
    }
   ],
   "source": [
    "print(marital_gender_distribution) #el grafico no dice nada todo es igual veo si tiene datos diferentes por categoria, tuve que cambiar nunique() por size \n"
   ]
  },
  {
   "cell_type": "code",
   "execution_count": null,
   "metadata": {},
   "outputs": [],
   "source": [
    "#Utilizando un conjunto de datos que hemos compartido, se busca evaluar si existen diferencias significativas en el número de vuelos reservados según el nivel educativo de los clientes. \n",
    "# Para ello, los asos que deberás seguir son:"
   ]
  },
  {
   "cell_type": "code",
   "execution_count": 177,
   "metadata": {},
   "outputs": [],
   "source": [
    "# 1. Preparación de Datos: Filtra el conjunto de datos para incluir únicamente las columnas relevantes: 'Flights Booked' y 'Education'.\n",
    "\n",
    "flights_byeducation = df_merged[[\"Flights Booked\", \"Education\"]]\n"
   ]
  },
  {
   "cell_type": "code",
   "execution_count": null,
   "metadata": {},
   "outputs": [
    {
     "name": "stderr",
     "output_type": "stream",
     "text": [
      "C:\\Users\\aaagu\\AppData\\Local\\Temp\\ipykernel_12128\\1450686479.py:5: FutureWarning: The default of observed=False is deprecated and will be changed to True in a future version of pandas. Pass observed=False to retain current behavior or observed=True to adopt the future default and silence this warning.\n",
      "  education_stats = flights_byeducation.groupby(\"Education\")[\"Flights Booked\"].agg([\"mean\", \"std\", \"count\"]).reset_index()\n"
     ]
    },
    {
     "data": {
      "text/html": [
       "<div>\n",
       "<style scoped>\n",
       "    .dataframe tbody tr th:only-of-type {\n",
       "        vertical-align: middle;\n",
       "    }\n",
       "\n",
       "    .dataframe tbody tr th {\n",
       "        vertical-align: top;\n",
       "    }\n",
       "\n",
       "    .dataframe thead th {\n",
       "        text-align: right;\n",
       "    }\n",
       "</style>\n",
       "<table border=\"1\" class=\"dataframe\">\n",
       "  <thead>\n",
       "    <tr style=\"text-align: right;\">\n",
       "      <th></th>\n",
       "      <th>Education</th>\n",
       "      <th>mean</th>\n",
       "      <th>std</th>\n",
       "      <th>count</th>\n",
       "    </tr>\n",
       "  </thead>\n",
       "  <tbody>\n",
       "    <tr>\n",
       "      <th>0</th>\n",
       "      <td>Bachelor</td>\n",
       "      <td>4.091093</td>\n",
       "      <td>5.216995</td>\n",
       "      <td>253752</td>\n",
       "    </tr>\n",
       "    <tr>\n",
       "      <th>1</th>\n",
       "      <td>College</td>\n",
       "      <td>4.153012</td>\n",
       "      <td>5.242136</td>\n",
       "      <td>102672</td>\n",
       "    </tr>\n",
       "    <tr>\n",
       "      <th>2</th>\n",
       "      <td>Doctor</td>\n",
       "      <td>4.146281</td>\n",
       "      <td>5.250093</td>\n",
       "      <td>17856</td>\n",
       "    </tr>\n",
       "    <tr>\n",
       "      <th>3</th>\n",
       "      <td>High School or Below</td>\n",
       "      <td>4.155777</td>\n",
       "      <td>5.234551</td>\n",
       "      <td>19008</td>\n",
       "    </tr>\n",
       "    <tr>\n",
       "      <th>4</th>\n",
       "      <td>Master</td>\n",
       "      <td>4.184014</td>\n",
       "      <td>5.210294</td>\n",
       "      <td>12336</td>\n",
       "    </tr>\n",
       "  </tbody>\n",
       "</table>\n",
       "</div>"
      ],
      "text/plain": [
       "              Education      mean       std   count\n",
       "0              Bachelor  4.091093  5.216995  253752\n",
       "1               College  4.153012  5.242136  102672\n",
       "2                Doctor  4.146281  5.250093   17856\n",
       "3  High School or Below  4.155777  5.234551   19008\n",
       "4                Master  4.184014  5.210294   12336"
      ]
     },
     "execution_count": 181,
     "metadata": {},
     "output_type": "execute_result"
    }
   ],
   "source": [
    "# 2. Análisis Descriptivo: Agrupa los datos por nivel educativo y calcula estadísticas descriptivas básicas (como el promedio, la desviación estándar)\n",
    "#  del número de vuelos reservados para cada grupo.\n",
    "\n",
    "# Agrupar por nivel educativo y calcular estadísticas descriptivas\n",
    "education_stats = flights_byeducation.groupby(\"Education\")[\"Flights Booked\"].agg([\"mean\", \"std\", \"count\"]).reset_index()\n",
    "\n",
    "education_stats\n"
   ]
  },
  {
   "cell_type": "code",
   "execution_count": 182,
   "metadata": {},
   "outputs": [
    {
     "name": "stdout",
     "output_type": "stream",
     "text": [
      "Test de Kolmogorov-Smirnov para Bachelor: p-value = 0.0000\n",
      "Test de Kolmogorov-Smirnov para College: p-value = 0.0000\n",
      "Test de Kolmogorov-Smirnov para Doctor: p-value = 0.0000\n",
      "Test de Kolmogorov-Smirnov para High School or Below: p-value = 0.0000\n",
      "Test de Kolmogorov-Smirnov para Master: p-value = 0.0000\n",
      "Los datos NO son normales. Usaremos Mann-Whitney U.\n"
     ]
    }
   ],
   "source": [
    "# 3 Prueba Estadística: Realiza una prueba de hipótesis para determinar si existe una diferencia significativa en el número de vuelos reservados entre los diferentes niveles educativos.\n",
    "\n",
    "#Determinar si los datos siguen una distribución normal con el test de KS porque la muestra es grande\n",
    "\n",
    "from scipy.stats import kstest, ttest_ind, mannwhitneyu\n",
    "import numpy as np\n",
    "\n",
    "education_levels = education_stats[\"Education\"].unique() #variable con la agrupación que hice anteriormente\n",
    "\n",
    "# Verificar normalidad con Kolmogorov-Smirnov\n",
    "for edu_level in education_levels:\n",
    "    data = flights_byeducation[flights_byeducation[\"Education\"] == edu_level][\"Flights Booked\"]\n",
    "    stat, p_value = kstest(data, 'norm', args=(data.mean(), data.std()))\n",
    "    print(f\"Test de Kolmogorov-Smirnov para {edu_level}: p-value = {p_value:.4f}\")\n",
    "\n",
    "# Decidir qué prueba usar\n",
    "if p_value < 0.05:\n",
    "    print(\"Los datos NO son normales. Usaremos Mann-Whitney U.\")\n",
    "else:\n",
    "    print(\"Los datos son normales. Podemos usar t-test de Student.\")"
   ]
  },
  {
   "cell_type": "code",
   "execution_count": null,
   "metadata": {},
   "outputs": [
    {
     "name": "stdout",
     "output_type": "stream",
     "text": [
      "Test de Mann-Whitney U: U-statistic = 1545385275.50, p-value = 0.0116\n",
      "Existe una diferencia significativa en la distribución del número de vuelos reservados entre los niveles educativos.\n"
     ]
    }
   ],
   "source": [
    "#AHORA QUE SE QUE LOS DATOS NO SON NORMALES HAGO EL TEST DE MANN-wHITNEY\n",
    "\n",
    "# Seleccionar dos niveles educativos para comparar (ejemplo: Bachelor vs Master)  ---> no puedo comparar mas grupos??? abajo de chatgpt pero resultados dificiles de interoretar\n",
    "bachelor_flights = flights_byeducation[flights_byeducation[\"Education\"] == \"Bachelor\"][\"Flights Booked\"]\n",
    "master_flights = flights_byeducation[flights_byeducation[\"Education\"] == \"Master\"][\"Flights Booked\"]\n",
    "\n",
    "# Aplicar el Test de Mann-Whitney U\n",
    "u_stat, p_value = mannwhitneyu(bachelor_flights, master_flights, alternative=\"two-sided\")\n",
    "\n",
    "# Mostrar resultados\n",
    "print(f\"Test de Mann-Whitney U: U-statistic = {u_stat:.2f}, p-value = {p_value:.4f}\")\n",
    "\n",
    "# Interpretación\n",
    "if p_value < 0.05:\n",
    "    print(\"Existe una diferencia significativa en la distribución del número de vuelos reservados entre los niveles educativos.\")\n",
    "else:\n",
    "    print(\"No hay diferencias significativas en la distribución del número de vuelos reservados entre los niveles educativos.\")\n"
   ]
  },
  {
   "cell_type": "code",
   "execution_count": 185,
   "metadata": {},
   "outputs": [
    {
     "name": "stdout",
     "output_type": "stream",
     "text": [
      "\n",
      "🔹 Comparación Bachelor vs College:\n",
      "   U-statistic = 12942655097.50, p-value = 0.0013\n",
      "   ❗ Diferencia significativa entre estos niveles educativos.\n",
      "\n",
      "🔹 Comparación Bachelor vs Master:\n",
      "   U-statistic = 1545385275.50, p-value = 0.0116\n",
      "   ❗ Diferencia significativa entre estos niveles educativos.\n",
      "\n",
      "🔹 Comparación Bachelor vs High School or Below:\n",
      "   U-statistic = 2391340116.50, p-value = 0.0388\n",
      "   ❗ Diferencia significativa entre estos niveles educativos.\n",
      "\n",
      "🔹 Comparación Bachelor vs Doctor:\n",
      "   U-statistic = 2252352116.00, p-value = 0.1668\n",
      "   ✅ No hay diferencias significativas.\n",
      "\n",
      "🔹 Comparación College vs Master:\n",
      "   U-statistic = 629401321.50, p-value = 0.2367\n",
      "   ✅ No hay diferencias significativas.\n",
      "\n",
      "🔹 Comparación College vs High School or Below:\n",
      "   U-statistic = 973892060.50, p-value = 0.6495\n",
      "   ✅ No hay diferencias significativas.\n",
      "\n",
      "🔹 Comparación College vs Doctor:\n",
      "   U-statistic = 917252192.50, p-value = 0.8825\n",
      "   ✅ No hay diferencias significativas.\n",
      "\n",
      "🔹 Comparación Master vs High School or Below:\n",
      "   U-statistic = 117731966.00, p-value = 0.5061\n",
      "   ✅ No hay diferencias significativas.\n",
      "\n",
      "🔹 Comparación Master vs Doctor:\n",
      "   U-statistic = 110882406.50, p-value = 0.2871\n",
      "   ✅ No hay diferencias significativas.\n",
      "\n",
      "🔹 Comparación High School or Below vs Doctor:\n",
      "   U-statistic = 170146511.50, p-value = 0.6449\n",
      "   ✅ No hay diferencias significativas.\n"
     ]
    }
   ],
   "source": [
    "from itertools import combinations\n",
    "from scipy.stats import mannwhitneyu\n",
    "\n",
    "# Obtener todos los niveles educativos únicos\n",
    "education_levels = flights_byeducation[\"Education\"].unique()\n",
    "\n",
    "# Generar todas las combinaciones posibles de 2 niveles educativos\n",
    "pairs = list(combinations(education_levels, 2))\n",
    "\n",
    "# Realizar la prueba Mann-Whitney U para cada combinación\n",
    "for edu1, edu2 in pairs:\n",
    "    group1 = flights_byeducation[flights_byeducation[\"Education\"] == edu1][\"Flights Booked\"]\n",
    "    group2 = flights_byeducation[flights_byeducation[\"Education\"] == edu2][\"Flights Booked\"]\n",
    "\n",
    "    # Aplicar el test de Mann-Whitney U\n",
    "    u_stat, p_value = mannwhitneyu(group1, group2, alternative=\"two-sided\")\n",
    "\n",
    "    # Imprimir solo si hay diferencias significativas\n",
    "    print(f\"\\n🔹 Comparación {edu1} vs {edu2}:\")\n",
    "    print(f\"   U-statistic = {u_stat:.2f}, p-value = {p_value:.4f}\")\n",
    "\n",
    "    if p_value < 0.05:\n",
    "        print(\"   ❗ Diferencia significativa entre estos niveles educativos.\")\n",
    "    else:\n",
    "        print(\"   ✅ No hay diferencias significativas.\")\n"
   ]
  }
 ],
 "metadata": {
  "kernelspec": {
   "display_name": "Python 3",
   "language": "python",
   "name": "python3"
  },
  "language_info": {
   "codemirror_mode": {
    "name": "ipython",
    "version": 3
   },
   "file_extension": ".py",
   "mimetype": "text/x-python",
   "name": "python",
   "nbconvert_exporter": "python",
   "pygments_lexer": "ipython3",
   "version": "3.11.9"
  }
 },
 "nbformat": 4,
 "nbformat_minor": 2
}
